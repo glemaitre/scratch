{
 "cells": [
  {
   "cell_type": "markdown",
   "id": "selective-interpretation",
   "metadata": {},
   "source": [
    "## Periodic kernel\n",
    "\n",
    "Periodic kernel is defined as the exponential sine squared kernel:\n",
    "\n",
    "$$\n",
    "K(\\mathbf{x}, \\mathbf{y}) = \\exp ( \\frac{-2}{l^2} \\sin^{2} ( \\frac{\\pi}{p} | \\mathbf{x}- \\mathbf{y} | ) )\n",
    "$$"
   ]
  },
  {
   "cell_type": "code",
   "execution_count": 1,
   "id": "vulnerable-ghana",
   "metadata": {},
   "outputs": [],
   "source": [
    "from sympy import *\n",
    "\n",
    "l, p, x, y = symbols(\"l p x y\")\n",
    "i, n, m = symbols(\"i n m\", integer=True)\n",
    "init_printing(use_unicode=True)"
   ]
  },
  {
   "cell_type": "code",
   "execution_count": 2,
   "id": "hindu-rendering",
   "metadata": {},
   "outputs": [],
   "source": [
    "from sympy.concrete.gosper import gosper_sum"
   ]
  },
  {
   "cell_type": "code",
   "execution_count": 3,
   "id": "acquired-cholesterol",
   "metadata": {},
   "outputs": [
    {
     "data": {
      "image/png": "[encoded data removed]",
      "text/latex": [
       "$\\displaystyle e^{- \\frac{2 \\sin^{2}{\\left(\\frac{\\pi \\left|{x - y}\\right|}{p} \\right)}}{l^{2}}}$"
      ],
      "text/plain": [
       "       2⎛π⋅│x - y│⎞ \n",
       " -2⋅sin ⎜─────────⎟ \n",
       "        ⎝    p    ⎠ \n",
       " ───────────────────\n",
       "           2        \n",
       "          l         \n",
       "ℯ                   "
      ]
     },
     "execution_count": 3,
     "metadata": {},
     "output_type": "execute_result"
    }
   ],
   "source": [
    "K = exp(- (2 / l ** 2) * sin(pi / p * abs(x - y)) ** 2)\n",
    "K"
   ]
  },
  {
   "cell_type": "code",
   "execution_count": 19,
   "id": "scientific-kernel",
   "metadata": {},
   "outputs": [
    {
     "data": {
      "image/png": "[encoded data removed]",
      "text/latex": [
       "$\\displaystyle \\frac{4 e^{- \\frac{2 \\sin^{2}{\\left(\\frac{\\pi \\left|{x - y}\\right|}{p} \\right)}}{l^{2}}} \\sin^{2}{\\left(\\frac{\\pi \\left|{x - y}\\right|}{p} \\right)}}{l^{3}}$"
      ],
      "text/plain": [
       "         2⎛π⋅│x - y│⎞                 \n",
       "   -2⋅sin ⎜─────────⎟                 \n",
       "          ⎝    p    ⎠                 \n",
       "   ───────────────────                \n",
       "             2                        \n",
       "            l             2⎛π⋅│x - y│⎞\n",
       "4⋅ℯ                   ⋅sin ⎜─────────⎟\n",
       "                           ⎝    p    ⎠\n",
       "──────────────────────────────────────\n",
       "                   3                  \n",
       "                  l                   "
      ]
     },
     "execution_count": 19,
     "metadata": {},
     "output_type": "execute_result"
    }
   ],
   "source": [
    "diff(K, l)"
   ]
  },
  {
   "cell_type": "code",
   "execution_count": 20,
   "id": "patient-palace",
   "metadata": {},
   "outputs": [
    {
     "data": {
      "image/png": "[encoded data removed]",
      "text/latex": [
       "$\\displaystyle \\frac{4 \\pi e^{- \\frac{2 \\sin^{2}{\\left(\\frac{\\pi \\left|{x - y}\\right|}{p} \\right)}}{l^{2}}} \\sin{\\left(\\frac{\\pi \\left|{x - y}\\right|}{p} \\right)} \\cos{\\left(\\frac{\\pi \\left|{x - y}\\right|}{p} \\right)} \\left|{x - y}\\right|}{l^{2} p^{2}}$"
      ],
      "text/plain": [
       "           2⎛π⋅│x - y│⎞                                       \n",
       "     -2⋅sin ⎜─────────⎟                                       \n",
       "            ⎝    p    ⎠                                       \n",
       "     ───────────────────                                      \n",
       "               2                                              \n",
       "              l             ⎛π⋅│x - y│⎞    ⎛π⋅│x - y│⎞        \n",
       "4⋅π⋅ℯ                   ⋅sin⎜─────────⎟⋅cos⎜─────────⎟⋅│x - y│\n",
       "                            ⎝    p    ⎠    ⎝    p    ⎠        \n",
       "──────────────────────────────────────────────────────────────\n",
       "                             2  2                             \n",
       "                            l ⋅p                              "
      ]
     },
     "execution_count": 20,
     "metadata": {},
     "output_type": "execute_result"
    }
   ],
   "source": [
    "diff(K, p)"
   ]
  },
  {
   "cell_type": "code",
   "execution_count": 25,
   "id": "reserved-groove",
   "metadata": {},
   "outputs": [],
   "source": [
    "from sympy.vector import CoordSys3D\n",
    "\n",
    "N = CoordSys3D(\"N\")"
   ]
  },
  {
   "cell_type": "code",
   "execution_count": 26,
   "id": "established-margin",
   "metadata": {},
   "outputs": [
    {
     "data": {
      "image/png": "[encoded data removed]",
      "text/latex": [
       "$\\displaystyle CoordSys3D\\left(N, \\left( \\left[\\begin{matrix}1 & 0 & 0\\\\0 & 1 & 0\\\\0 & 0 & 1\\end{matrix}\\right], \\  \\mathbf{\\hat{0}}\\right)\\right)$"
      ],
      "text/plain": [
       "N"
      ]
     },
     "execution_count": 26,
     "metadata": {},
     "output_type": "execute_result"
    }
   ],
   "source": [
    "N"
   ]
  },
  {
   "cell_type": "code",
   "execution_count": null,
   "id": "desirable-pointer",
   "metadata": {},
   "outputs": [
    {
     "name": "stderr",
     "output_type": "stream",
     "text": [
      "/home/glemaitre/Documents/packages/scikit-learn/sklearn/gaussian_process/kernels.py:402: ConvergenceWarning: The optimal value found for dimension 0 of parameter periodicity is close to the specified lower bound 1e-05. Decreasing the bound and calling fit again may find a better value.\n",
      "  warnings.warn(\"The optimal value found for \"\n",
      "/home/glemaitre/Documents/packages/scikit-learn/sklearn/gaussian_process/kernels.py:402: ConvergenceWarning: The optimal value found for dimension 0 of parameter length_scale is close to the specified lower bound 1e-05. Decreasing the bound and calling fit again may find a better value.\n",
      "  warnings.warn(\"The optimal value found for \"\n",
      "/home/glemaitre/Documents/packages/scikit-learn/sklearn/gaussian_process/kernels.py:402: ConvergenceWarning: The optimal value found for dimension 0 of parameter periodicity is close to the specified lower bound 1e-05. Decreasing the bound and calling fit again may find a better value.\n",
      "  warnings.warn(\"The optimal value found for \"\n",
      "/home/glemaitre/Documents/packages/scikit-learn/sklearn/gaussian_process/kernels.py:402: ConvergenceWarning: The optimal value found for dimension 0 of parameter length_scale is close to the specified lower bound 1e-05. Decreasing the bound and calling fit again may find a better value.\n",
      "  warnings.warn(\"The optimal value found for \"\n",
      "/home/glemaitre/Documents/packages/scikit-learn/sklearn/gaussian_process/kernels.py:402: ConvergenceWarning: The optimal value found for dimension 0 of parameter periodicity is close to the specified lower bound 1e-05. Decreasing the bound and calling fit again may find a better value.\n",
      "  warnings.warn(\"The optimal value found for \"\n",
      "/home/glemaitre/Documents/packages/scikit-learn/sklearn/gaussian_process/_gpr.py:507: ConvergenceWarning: lbfgs failed to converge (status=2):\n",
      "ABNORMAL_TERMINATION_IN_LNSRCH.\n",
      "\n",
      "Increase the number of iterations (max_iter) or scale the data as shown in:\n",
      "    https://scikit-learn.org/stable/modules/preprocessing.html\n",
      "  _check_optimize_result(\"lbfgs\", opt_res)\n",
      "/home/glemaitre/Documents/packages/scikit-learn/sklearn/gaussian_process/_gpr.py:507: ConvergenceWarning: lbfgs failed to converge (status=2):\n",
      "ABNORMAL_TERMINATION_IN_LNSRCH.\n",
      "\n",
      "Increase the number of iterations (max_iter) or scale the data as shown in:\n",
      "    https://scikit-learn.org/stable/modules/preprocessing.html\n",
      "  _check_optimize_result(\"lbfgs\", opt_res)\n",
      "/home/glemaitre/Documents/packages/scikit-learn/sklearn/gaussian_process/_gpr.py:507: ConvergenceWarning: lbfgs failed to converge (status=2):\n",
      "ABNORMAL_TERMINATION_IN_LNSRCH.\n",
      "\n",
      "Increase the number of iterations (max_iter) or scale the data as shown in:\n",
      "    https://scikit-learn.org/stable/modules/preprocessing.html\n",
      "  _check_optimize_result(\"lbfgs\", opt_res)\n",
      "/home/glemaitre/Documents/packages/scikit-learn/sklearn/gaussian_process/_gpr.py:507: ConvergenceWarning: lbfgs failed to converge (status=2):\n",
      "ABNORMAL_TERMINATION_IN_LNSRCH.\n",
      "\n",
      "Increase the number of iterations (max_iter) or scale the data as shown in:\n",
      "    https://scikit-learn.org/stable/modules/preprocessing.html\n",
      "  _check_optimize_result(\"lbfgs\", opt_res)\n"
     ]
    }
   ],
   "source": [
    "import sklearn.gaussian_process as gp\n",
    "from sklearn.gaussian_process.kernels import ExpSineSquared\n",
    "\n",
    "while True:\n",
    "    xtr = np.random.rand(25,25)\n",
    "    ytr = np.random.rand(25)\n",
    "    model = gp.GaussianProcessRegressor(kernel=ExpSineSquared(),\n",
    "                                                alpha=1e-5,\n",
    "                                                n_restarts_optimizer=10,\n",
    "                                                normalize_y=True)\n",
    "    model.fit(xtr, ytr)"
   ]
  },
  {
   "cell_type": "code",
   "execution_count": 1,
   "id": "minute-income",
   "metadata": {},
   "outputs": [
    {
     "name": "stderr",
     "output_type": "stream",
     "text": [
      "/home/glemaitre/Documents/packages/scikit-learn/sklearn/gaussian_process/kernels.py:402: ConvergenceWarning: The optimal value found for dimension 0 of parameter length_scale is close to the specified lower bound 1e-05. Decreasing the bound and calling fit again may find a better value.\n",
      "  warnings.warn(\"The optimal value found for \"\n"
     ]
    },
    {
     "ename": "ValueError",
     "evalue": "operands could not be broadcast together with shapes (4,) (2,) ",
     "output_type": "error",
     "traceback": [
      "\u001b[0;31m---------------------------------------------------------------------------\u001b[0m",
      "\u001b[0;31mValueError\u001b[0m                                Traceback (most recent call last)",
      "\u001b[0;32m<ipython-input-1-70d0b0959923>\u001b[0m in \u001b[0;36m<module>\u001b[0;34m\u001b[0m\n\u001b[1;32m     14\u001b[0m \u001b[0mnewx\u001b[0m \u001b[0;34m=\u001b[0m \u001b[0mnp\u001b[0m\u001b[0;34m.\u001b[0m\u001b[0matleast_2d\u001b[0m\u001b[0;34m(\u001b[0m\u001b[0;34m[\u001b[0m\u001b[0;36m1\u001b[0m\u001b[0;34m,\u001b[0m \u001b[0;36m2\u001b[0m\u001b[0;34m,\u001b[0m \u001b[0;36m3\u001b[0m\u001b[0;34m,\u001b[0m \u001b[0;36m4\u001b[0m\u001b[0;34m]\u001b[0m\u001b[0;34m)\u001b[0m\u001b[0;34m.\u001b[0m\u001b[0mT\u001b[0m\u001b[0;34m\u001b[0m\u001b[0;34m\u001b[0m\u001b[0m\n\u001b[1;32m     15\u001b[0m \u001b[0mgp\u001b[0m\u001b[0;34m.\u001b[0m\u001b[0mpredict\u001b[0m\u001b[0;34m(\u001b[0m\u001b[0mnewx\u001b[0m\u001b[0;34m,\u001b[0m \u001b[0mreturn_std\u001b[0m\u001b[0;34m=\u001b[0m\u001b[0;32mFalse\u001b[0m\u001b[0;34m)\u001b[0m\u001b[0;34m\u001b[0m\u001b[0;34m\u001b[0m\u001b[0m\n\u001b[0;32m---> 16\u001b[0;31m \u001b[0mgp\u001b[0m\u001b[0;34m.\u001b[0m\u001b[0mpredict\u001b[0m\u001b[0;34m(\u001b[0m\u001b[0mnewx\u001b[0m\u001b[0;34m,\u001b[0m \u001b[0mreturn_std\u001b[0m\u001b[0;34m=\u001b[0m\u001b[0;32mTrue\u001b[0m\u001b[0;34m)\u001b[0m\u001b[0;34m\u001b[0m\u001b[0;34m\u001b[0m\u001b[0m\n\u001b[0m",
      "\u001b[0;32m~/Documents/packages/scikit-learn/sklearn/gaussian_process/_gpr.py\u001b[0m in \u001b[0;36mpredict\u001b[0;34m(self, X, return_std, return_cov)\u001b[0m\n\u001b[1;32m    375\u001b[0m \u001b[0;34m\u001b[0m\u001b[0m\n\u001b[1;32m    376\u001b[0m                 \u001b[0;31m# undo normalisation\u001b[0m\u001b[0;34m\u001b[0m\u001b[0;34m\u001b[0m\u001b[0;34m\u001b[0m\u001b[0m\n\u001b[0;32m--> 377\u001b[0;31m                 \u001b[0my_var\u001b[0m \u001b[0;34m=\u001b[0m \u001b[0my_var\u001b[0m \u001b[0;34m*\u001b[0m \u001b[0mself\u001b[0m\u001b[0;34m.\u001b[0m\u001b[0m_y_train_std\u001b[0m\u001b[0;34m**\u001b[0m\u001b[0;36m2\u001b[0m\u001b[0;34m\u001b[0m\u001b[0;34m\u001b[0m\u001b[0m\n\u001b[0m\u001b[1;32m    378\u001b[0m \u001b[0;34m\u001b[0m\u001b[0m\n\u001b[1;32m    379\u001b[0m                 \u001b[0;32mreturn\u001b[0m \u001b[0my_mean\u001b[0m\u001b[0;34m,\u001b[0m \u001b[0mnp\u001b[0m\u001b[0;34m.\u001b[0m\u001b[0msqrt\u001b[0m\u001b[0;34m(\u001b[0m\u001b[0my_var\u001b[0m\u001b[0;34m)\u001b[0m\u001b[0;34m\u001b[0m\u001b[0;34m\u001b[0m\u001b[0m\n",
      "\u001b[0;31mValueError\u001b[0m: operands could not be broadcast together with shapes (4,) (2,) "
     ]
    }
   ],
   "source": [
    "import numpy as np\n",
    "from sklearn.gaussian_process import GaussianProcessRegressor\n",
    "from sklearn.gaussian_process.kernels import RBF\n",
    "\n",
    "def f(x): return(np.array([np.sin(7 * x), x ** 4]))\n",
    "\n",
    "kernel = RBF()\n",
    "gp = GaussianProcessRegressor(kernel=RBF(length_scale=15.7), n_restarts_optimizer=50,\n",
    "                         normalize_y=True) # (works when normalize_y is False)\n",
    "\n",
    "X = np.linspace(0, 5, 5)\n",
    "gp.fit(np.atleast_2d(X).T, f(X).T)\n",
    "\n",
    "newx = np.atleast_2d([1, 2, 3, 4]).T\n",
    "gp.predict(newx, return_std=False)\n",
    "gp.predict(newx, return_std=True)"
   ]
  },
  {
   "cell_type": "code",
   "execution_count": null,
   "id": "coupled-makeup",
   "metadata": {},
   "outputs": [],
   "source": []
  },
  {
   "cell_type": "code",
   "execution_count": null,
   "id": "890e9326",
   "metadata": {},
   "outputs": [],
   "source": []
  },
  {
   "cell_type": "code",
   "execution_count": null,
   "id": "68592fde",
   "metadata": {},
   "outputs": [],
   "source": []
  },
  {
   "cell_type": "code",
   "execution_count": null,
   "id": "ee0f28b6",
   "metadata": {},
   "outputs": [],
   "source": []
  },
  {
   "cell_type": "code",
   "execution_count": null,
   "id": "047af794",
   "metadata": {},
   "outputs": [],
   "source": []
  },
  {
   "cell_type": "markdown",
   "id": "0269fa7d",
   "metadata": {},
   "source": [
    "## Experiment"
   ]
  },
  {
   "cell_type": "markdown",
   "id": "d6d93051",
   "metadata": {},
   "source": [
    "### Compute the kernel matrix"
   ]
  },
  {
   "cell_type": "code",
   "execution_count": 31,
   "id": "68d52c4e",
   "metadata": {},
   "outputs": [],
   "source": [
    "import numpy as np\n",
    "\n",
    "r = np.linspace(0, 1, num=4)\n",
    "train_x, train_y = np.meshgrid(r, r)\n",
    "X = np.stack((train_x.flatten(), train_y.flatten()), axis=-1)[:6, :]"
   ]
  },
  {
   "cell_type": "code",
   "execution_count": 32,
   "id": "4f02678c",
   "metadata": {},
   "outputs": [],
   "source": [
    "periodicity = 1.5\n",
    "length_scale = 0.5"
   ]
  },
  {
   "cell_type": "code",
   "execution_count": 33,
   "id": "6d416866",
   "metadata": {},
   "outputs": [
    {
     "data": {
      "text/plain": [
       "array([[1.00000000e+00, 3.66842677e-02, 4.26981239e-04, 2.47875218e-03,\n",
       "        3.66842677e-02, 1.34573550e-03],\n",
       "       [3.66842677e-02, 1.00000000e+00, 3.66842677e-02, 4.26981239e-04,\n",
       "        1.34573550e-03, 3.66842677e-02],\n",
       "       [4.26981239e-04, 3.66842677e-02, 1.00000000e+00, 3.66842677e-02,\n",
       "        1.56634941e-05, 1.34573550e-03],\n",
       "       [2.47875218e-03, 4.26981239e-04, 3.66842677e-02, 1.00000000e+00,\n",
       "        9.09312084e-05, 1.56634941e-05],\n",
       "       [3.66842677e-02, 1.34573550e-03, 1.56634941e-05, 9.09312084e-05,\n",
       "        1.00000000e+00, 3.66842677e-02],\n",
       "       [1.34573550e-03, 3.66842677e-02, 1.34573550e-03, 1.56634941e-05,\n",
       "        3.66842677e-02, 1.00000000e+00]])"
      ]
     },
     "execution_count": 33,
     "metadata": {},
     "output_type": "execute_result"
    }
   ],
   "source": [
    "from sklearn.gaussian_process.kernels import ExpSineSquared\n",
    "\n",
    "kernel_sklearn = ExpSineSquared(\n",
    "    periodicity=periodicity, length_scale=length_scale,\n",
    ")\n",
    "K_sklearn = kernel_sklearn(X)\n",
    "K_sklearn"
   ]
  },
  {
   "cell_type": "code",
   "execution_count": 53,
   "id": "2e5bdb56",
   "metadata": {},
   "outputs": [
    {
     "data": {
      "text/plain": [
       "array([0.92158295, 0.95878265, 0.99776055, 0.99981749, 1.04016318,\n",
       "       1.08189318])"
      ]
     },
     "execution_count": 53,
     "metadata": {},
     "output_type": "execute_result"
    }
   ],
   "source": [
    "np.linalg.eigh(K_sklearn)[0]"
   ]
  },
  {
   "cell_type": "code",
   "execution_count": 34,
   "id": "e54741f1",
   "metadata": {},
   "outputs": [
    {
     "data": {
      "text/plain": [
       "array([[1.0000000e+00, 3.6684260e-02, 4.2698105e-04, 2.4787546e-03,\n",
       "        3.6684260e-02, 1.3457348e-03],\n",
       "       [3.6684260e-02, 1.0000000e+00, 3.6684260e-02, 4.2698145e-04,\n",
       "        1.3457348e-03, 3.6684260e-02],\n",
       "       [4.2698105e-04, 3.6684260e-02, 1.0000000e+00, 3.6684275e-02,\n",
       "        1.5663483e-05, 1.3457348e-03],\n",
       "       [2.4787546e-03, 4.2698145e-04, 3.6684275e-02, 1.0000000e+00,\n",
       "        9.0931273e-05, 1.5663498e-05],\n",
       "       [3.6684260e-02, 1.3457348e-03, 1.5663483e-05, 9.0931273e-05,\n",
       "        1.0000000e+00, 3.6684260e-02],\n",
       "       [1.3457348e-03, 3.6684260e-02, 1.3457348e-03, 1.5663498e-05,\n",
       "        3.6684260e-02, 1.0000000e+00]], dtype=float32)"
      ]
     },
     "execution_count": 34,
     "metadata": {},
     "output_type": "execute_result"
    }
   ],
   "source": [
    "from tensorflow_probability import math\n",
    "\n",
    "kernel_tfp = math.psd_kernels.ExpSinSquared(\n",
    "   period=periodicity, length_scale=length_scale\n",
    ")\n",
    "K_tfp = kernel_tfp.matrix(X, X)\n",
    "K_tfp.numpy()"
   ]
  },
  {
   "cell_type": "code",
   "execution_count": 52,
   "id": "4120781b",
   "metadata": {},
   "outputs": [
    {
     "data": {
      "text/plain": [
       "array([0.92158294, 0.9587827 , 0.99776053, 0.9998175 , 1.0401632 ,\n",
       "       1.0818932 ], dtype=float32)"
      ]
     },
     "execution_count": 52,
     "metadata": {},
     "output_type": "execute_result"
    }
   ],
   "source": [
    "np.linalg.eigh(K_tfp.numpy())[0]"
   ]
  },
  {
   "cell_type": "code",
   "execution_count": 50,
   "id": "8f51104d",
   "metadata": {},
   "outputs": [
    {
     "data": {
      "text/plain": [
       "array([[1.        , 0.05641548, 0.95948005, 0.06124461, 0.05641548,\n",
       "        0.12793895],\n",
       "       [0.05641548, 1.        , 0.05641548, 0.95948005, 0.12793895,\n",
       "        0.05641548],\n",
       "       [0.95948005, 0.05641548, 1.        , 0.05641548, 0.85336358,\n",
       "        0.12793895],\n",
       "       [0.06124461, 0.95948005, 0.05641548, 1.        , 0.05651977,\n",
       "        0.85336358],\n",
       "       [0.05641548, 0.12793895, 0.85336358, 0.05651977, 1.        ,\n",
       "        0.05641548],\n",
       "       [0.12793895, 0.05641548, 0.12793895, 0.85336358, 0.05641548,\n",
       "        1.        ]])"
      ]
     },
     "execution_count": 50,
     "metadata": {},
     "output_type": "execute_result"
    }
   ],
   "source": [
    "import torch\n",
    "from gpytorch.kernels import PeriodicKernel\n",
    "\n",
    "kernel_pytorch = PeriodicKernel()\n",
    "K_pytorch = kernel_pytorch(torch.from_numpy(X))\n",
    "K_pytorch.numpy()"
   ]
  },
  {
   "cell_type": "code",
   "execution_count": 51,
   "id": "f8c7ba68",
   "metadata": {},
   "outputs": [
    {
     "data": {
      "text/plain": [
       "array([-0.27196781, -0.24495335,  0.87257204,  1.01420914,  2.08863012,\n",
       "        2.54150987])"
      ]
     },
     "execution_count": 51,
     "metadata": {},
     "output_type": "execute_result"
    }
   ],
   "source": [
    "np.linalg.eigh(K_pytorch.numpy())[0]"
   ]
  },
  {
   "cell_type": "markdown",
   "id": "4e665267",
   "metadata": {},
   "source": [
    "### Compute the gradient"
   ]
  },
  {
   "cell_type": "code",
   "execution_count": 55,
   "id": "0a5bdf25",
   "metadata": {},
   "outputs": [],
   "source": [
    "import tensorflow as tf\n",
    "\n",
    "periodicity = tf.constant(1.5)\n",
    "length_scale = tf.constant(0.5)"
   ]
  },
  {
   "cell_type": "code",
   "execution_count": 60,
   "id": "97663c19",
   "metadata": {},
   "outputs": [
    {
     "ename": "TypeError",
     "evalue": "Cannot convert value <tfp.math.psd_kernels.ExpSinSquared 'ExpSinSquared' batch_shape=() feature_ndims=1 dtype=float32> to a TensorFlow DType.",
     "output_type": "error",
     "traceback": [
      "\u001b[0;31m---------------------------------------------------------------------------\u001b[0m",
      "\u001b[0;31mTypeError\u001b[0m                                 Traceback (most recent call last)",
      "\u001b[0;32m<ipython-input-60-44a4cc9ced0c>\u001b[0m in \u001b[0;36m<module>\u001b[0;34m\u001b[0m\n\u001b[1;32m      3\u001b[0m     \u001b[0mg\u001b[0m\u001b[0;34m.\u001b[0m\u001b[0mwatch\u001b[0m\u001b[0;34m(\u001b[0m\u001b[0mlength_scale\u001b[0m\u001b[0;34m)\u001b[0m\u001b[0;34m\u001b[0m\u001b[0;34m\u001b[0m\u001b[0m\n\u001b[1;32m      4\u001b[0m     \u001b[0mkernel\u001b[0m \u001b[0;34m=\u001b[0m \u001b[0mmath\u001b[0m\u001b[0;34m.\u001b[0m\u001b[0mpsd_kernels\u001b[0m\u001b[0;34m.\u001b[0m\u001b[0mExpSinSquared\u001b[0m\u001b[0;34m(\u001b[0m\u001b[0mperiod\u001b[0m\u001b[0;34m=\u001b[0m\u001b[0mperiodicity\u001b[0m\u001b[0;34m,\u001b[0m \u001b[0mlength_scale\u001b[0m\u001b[0;34m=\u001b[0m\u001b[0mlength_scale\u001b[0m\u001b[0;34m)\u001b[0m\u001b[0;34m\u001b[0m\u001b[0;34m\u001b[0m\u001b[0m\n\u001b[0;32m----> 5\u001b[0;31m \u001b[0mg\u001b[0m\u001b[0;34m.\u001b[0m\u001b[0mgradient\u001b[0m\u001b[0;34m(\u001b[0m\u001b[0mkernel\u001b[0m\u001b[0;34m,\u001b[0m \u001b[0mperiodicity\u001b[0m\u001b[0;34m)\u001b[0m\u001b[0;34m\u001b[0m\u001b[0;34m\u001b[0m\u001b[0m\n\u001b[0m",
      "\u001b[0;32m~/miniconda3/envs/deep-learning/lib/python3.8/site-packages/tensorflow/python/eager/backprop.py\u001b[0m in \u001b[0;36mgradient\u001b[0;34m(self, target, sources, output_gradients, unconnected_gradients)\u001b[0m\n\u001b[1;32m   1045\u001b[0m     \u001b[0mflat_targets\u001b[0m \u001b[0;34m=\u001b[0m \u001b[0;34m[\u001b[0m\u001b[0;34m]\u001b[0m\u001b[0;34m\u001b[0m\u001b[0;34m\u001b[0m\u001b[0m\n\u001b[1;32m   1046\u001b[0m     \u001b[0;32mfor\u001b[0m \u001b[0mt\u001b[0m \u001b[0;32min\u001b[0m \u001b[0mnest\u001b[0m\u001b[0;34m.\u001b[0m\u001b[0mflatten\u001b[0m\u001b[0;34m(\u001b[0m\u001b[0mtarget\u001b[0m\u001b[0;34m)\u001b[0m\u001b[0;34m:\u001b[0m\u001b[0;34m\u001b[0m\u001b[0;34m\u001b[0m\u001b[0m\n\u001b[0;32m-> 1047\u001b[0;31m       \u001b[0;32mif\u001b[0m \u001b[0;32mnot\u001b[0m \u001b[0mbackprop_util\u001b[0m\u001b[0;34m.\u001b[0m\u001b[0mIsTrainable\u001b[0m\u001b[0;34m(\u001b[0m\u001b[0mt\u001b[0m\u001b[0;34m)\u001b[0m\u001b[0;34m:\u001b[0m\u001b[0;34m\u001b[0m\u001b[0;34m\u001b[0m\u001b[0m\n\u001b[0m\u001b[1;32m   1048\u001b[0m         logging.vlog(\n\u001b[1;32m   1049\u001b[0m             \u001b[0mlogging\u001b[0m\u001b[0;34m.\u001b[0m\u001b[0mWARN\u001b[0m\u001b[0;34m,\u001b[0m \u001b[0;34m\"The dtype of the target tensor must be \"\u001b[0m\u001b[0;34m\u001b[0m\u001b[0;34m\u001b[0m\u001b[0m\n",
      "\u001b[0;32m~/miniconda3/envs/deep-learning/lib/python3.8/site-packages/tensorflow/python/eager/backprop_util.py\u001b[0m in \u001b[0;36mIsTrainable\u001b[0;34m(tensor_or_dtype)\u001b[0m\n\u001b[1;32m     28\u001b[0m   \u001b[0;32melse\u001b[0m\u001b[0;34m:\u001b[0m\u001b[0;34m\u001b[0m\u001b[0;34m\u001b[0m\u001b[0m\n\u001b[1;32m     29\u001b[0m     \u001b[0mdtype\u001b[0m \u001b[0;34m=\u001b[0m \u001b[0mtensor_or_dtype\u001b[0m\u001b[0;34m\u001b[0m\u001b[0;34m\u001b[0m\u001b[0m\n\u001b[0;32m---> 30\u001b[0;31m   \u001b[0mdtype\u001b[0m \u001b[0;34m=\u001b[0m \u001b[0mdtypes\u001b[0m\u001b[0;34m.\u001b[0m\u001b[0mas_dtype\u001b[0m\u001b[0;34m(\u001b[0m\u001b[0mdtype\u001b[0m\u001b[0;34m)\u001b[0m\u001b[0;34m\u001b[0m\u001b[0;34m\u001b[0m\u001b[0m\n\u001b[0m\u001b[1;32m     31\u001b[0m   return dtype.base_dtype in (dtypes.float16, dtypes.float32, dtypes.float64,\n\u001b[1;32m     32\u001b[0m                               \u001b[0mdtypes\u001b[0m\u001b[0;34m.\u001b[0m\u001b[0mcomplex64\u001b[0m\u001b[0;34m,\u001b[0m \u001b[0mdtypes\u001b[0m\u001b[0;34m.\u001b[0m\u001b[0mcomplex128\u001b[0m\u001b[0;34m,\u001b[0m\u001b[0;34m\u001b[0m\u001b[0;34m\u001b[0m\u001b[0m\n",
      "\u001b[0;32m~/miniconda3/envs/deep-learning/lib/python3.8/site-packages/tensorflow/python/framework/dtypes.py\u001b[0m in \u001b[0;36mas_dtype\u001b[0;34m(type_value)\u001b[0m\n\u001b[1;32m    647\u001b[0m     \u001b[0;32mreturn\u001b[0m \u001b[0m_INTERN_TABLE\u001b[0m\u001b[0;34m[\u001b[0m\u001b[0mtype_value\u001b[0m\u001b[0;34m.\u001b[0m\u001b[0mas_datatype_enum\u001b[0m\u001b[0;34m]\u001b[0m\u001b[0;34m\u001b[0m\u001b[0;34m\u001b[0m\u001b[0m\n\u001b[1;32m    648\u001b[0m \u001b[0;34m\u001b[0m\u001b[0m\n\u001b[0;32m--> 649\u001b[0;31m   raise TypeError(\"Cannot convert value %r to a TensorFlow DType.\" %\n\u001b[0m\u001b[1;32m    650\u001b[0m                   (type_value,))\n",
      "\u001b[0;31mTypeError\u001b[0m: Cannot convert value <tfp.math.psd_kernels.ExpSinSquared 'ExpSinSquared' batch_shape=() feature_ndims=1 dtype=float32> to a TensorFlow DType."
     ]
    }
   ],
   "source": [
    "with tf.GradientTape() as g:\n",
    "    g.watch(periodicity)\n",
    "    g.watch(length_scale)\n",
    "    kernel = math.psd_kernels.ExpSinSquared(period=periodicity, length_scale=length_scale)\n",
    "g.gradient(kernel, periodicity)"
   ]
  },
  {
   "cell_type": "code",
   "execution_count": null,
   "id": "47ed1afc",
   "metadata": {},
   "outputs": [],
   "source": []
  }
 ],
 "metadata": {
  "kernelspec": {
   "display_name": "Python 3",
   "language": "python",
   "name": "python3"
  },
  "language_info": {
   "codemirror_mode": {
    "name": "ipython",
    "version": 3
   },
   "file_extension": ".py",
   "mimetype": "text/x-python",
   "name": "python",
   "nbconvert_exporter": "python",
   "pygments_lexer": "ipython3",
   "version": "3.8.8"
  }
 },
 "nbformat": 4,
 "nbformat_minor": 5
}
