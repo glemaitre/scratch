{
 "cells": [
  {
   "cell_type": "markdown",
   "id": "selective-interpretation",
   "metadata": {},
   "source": [
    "## Periodic kernel\n",
    "\n",
    "Periodic kernel is defined as the exponential sine squared kernel:\n",
    "\n",
    "$$\n",
    "K(\\mathbf{x}, \\mathbf{y}) = \\exp ( \\frac{-2}{l^2} \\sin^{2} ( \\frac{\\pi}{p} | \\mathbf{x}- \\mathbf{y} | ) )\n",
    "$$"
   ]
  },
  {
   "cell_type": "code",
   "execution_count": 1,
   "id": "vulnerable-ghana",
   "metadata": {},
   "outputs": [],
   "source": [
    "from sympy import *"
   ]
  },
  {
   "cell_type": "code",
   "execution_count": 2,
   "id": "loaded-latex",
   "metadata": {},
   "outputs": [
    {
     "data": {
      "text/latex": [
       "$\\displaystyle \\frac{4 \\pi e^{- \\frac{2 \\sin^{2}{\\left(\\frac{\\pi \\left|{x - y}\\right|}{p} \\right)}}{l^{2}}} \\sin{\\left(\\frac{\\pi \\left|{x - y}\\right|}{p} \\right)} \\cos{\\left(\\frac{\\pi \\left|{x - y}\\right|}{p} \\right)} \\left|{x - y}\\right|}{l^{2} p^{2}}$"
      ],
      "text/plain": [
       "4*pi*exp(-2*sin(pi*Abs(x - y)/p)**2/l**2)*sin(pi*Abs(x - y)/p)*cos(pi*Abs(x - y)/p)*Abs(x - y)/(l**2*p**2)"
      ]
     },
     "execution_count": 2,
     "metadata": {},
     "output_type": "execute_result"
    }
   ],
   "source": [
    "l, p, x, y = symbols(\"l p x y\")\n",
    "K = exp(- (2 / l ** 2) * sin(pi / p * abs(x - y)) ** 2)\n",
    "diff(K, p)"
   ]
  },
  {
   "cell_type": "code",
   "execution_count": 3,
   "id": "scientific-kernel",
   "metadata": {},
   "outputs": [
    {
     "data": {
      "text/latex": [
       "$\\displaystyle \\frac{4 \\pi e^{- \\frac{2 \\sin^{2}{\\left(\\frac{\\pi \\left|{x - y}\\right|}{p} \\right)}}{l^{2}}} \\sin{\\left(\\frac{\\pi \\left|{x - y}\\right|}{p} \\right)} \\cos{\\left(\\frac{\\pi \\left|{x - y}\\right|}{p} \\right)} \\left|{x - y}\\right|}{l^{2} p^{2}}$"
      ],
      "text/plain": [
       "4*pi*exp(-2*sin(pi*Abs(x - y)/p)**2/l**2)*sin(pi*Abs(x - y)/p)*cos(pi*Abs(x - y)/p)*Abs(x - y)/(l**2*p**2)"
      ]
     },
     "execution_count": 3,
     "metadata": {},
     "output_type": "execute_result"
    }
   ],
   "source": [
    "diff(K, p)"
   ]
  },
  {
   "cell_type": "code",
   "execution_count": 3,
   "id": "patient-palace",
   "metadata": {},
   "outputs": [
    {
     "data": {
      "text/latex": [
       "$\\displaystyle \\frac{4 e^{- \\frac{2 \\sin^{2}{\\left(\\frac{\\pi \\left|{x - y}\\right|}{p} \\right)}}{l^{2}}} \\sin^{2}{\\left(\\frac{\\pi \\left|{x - y}\\right|}{p} \\right)}}{l^{3}}$"
      ],
      "text/plain": [
       "4*exp(-2*sin(pi*Abs(x - y)/p)**2/l**2)*sin(pi*Abs(x - y)/p)**2/l**3"
      ]
     },
     "execution_count": 3,
     "metadata": {},
     "output_type": "execute_result"
    }
   ],
   "source": [
    "diff(K, l)"
   ]
  },
  {
   "cell_type": "code",
   "execution_count": 25,
   "id": "reserved-groove",
   "metadata": {},
   "outputs": [],
   "source": [
    "from sympy.vector import CoordSys3D\n",
    "\n",
    "N = CoordSys3D(\"N\")"
   ]
  },
  {
   "cell_type": "code",
   "execution_count": 26,
   "id": "established-margin",
   "metadata": {},
   "outputs": [
    {
     "data": {
      "image/png": "[encoded data removed]",
      "text/latex": [
       "$\\displaystyle CoordSys3D\\left(N, \\left( \\left[\\begin{matrix}1 & 0 & 0\\\\0 & 1 & 0\\\\0 & 0 & 1\\end{matrix}\\right], \\  \\mathbf{\\hat{0}}\\right)\\right)$"
      ],
      "text/plain": [
       "N"
      ]
     },
     "execution_count": 26,
     "metadata": {},
     "output_type": "execute_result"
    }
   ],
   "source": [
    "N"
   ]
  },
  {
   "cell_type": "code",
   "execution_count": null,
   "id": "desirable-pointer",
   "metadata": {},
   "outputs": [
    {
     "name": "stderr",
     "output_type": "stream",
     "text": [
      "/home/glemaitre/Documents/packages/scikit-learn/sklearn/gaussian_process/kernels.py:402: ConvergenceWarning: The optimal value found for dimension 0 of parameter periodicity is close to the specified lower bound 1e-05. Decreasing the bound and calling fit again may find a better value.\n",
      "  warnings.warn(\"The optimal value found for \"\n",
      "/home/glemaitre/Documents/packages/scikit-learn/sklearn/gaussian_process/kernels.py:402: ConvergenceWarning: The optimal value found for dimension 0 of parameter length_scale is close to the specified lower bound 1e-05. Decreasing the bound and calling fit again may find a better value.\n",
      "  warnings.warn(\"The optimal value found for \"\n",
      "/home/glemaitre/Documents/packages/scikit-learn/sklearn/gaussian_process/kernels.py:402: ConvergenceWarning: The optimal value found for dimension 0 of parameter periodicity is close to the specified lower bound 1e-05. Decreasing the bound and calling fit again may find a better value.\n",
      "  warnings.warn(\"The optimal value found for \"\n",
      "/home/glemaitre/Documents/packages/scikit-learn/sklearn/gaussian_process/kernels.py:402: ConvergenceWarning: The optimal value found for dimension 0 of parameter length_scale is close to the specified lower bound 1e-05. Decreasing the bound and calling fit again may find a better value.\n",
      "  warnings.warn(\"The optimal value found for \"\n",
      "/home/glemaitre/Documents/packages/scikit-learn/sklearn/gaussian_process/kernels.py:402: ConvergenceWarning: The optimal value found for dimension 0 of parameter periodicity is close to the specified lower bound 1e-05. Decreasing the bound and calling fit again may find a better value.\n",
      "  warnings.warn(\"The optimal value found for \"\n",
      "/home/glemaitre/Documents/packages/scikit-learn/sklearn/gaussian_process/_gpr.py:507: ConvergenceWarning: lbfgs failed to converge (status=2):\n",
      "ABNORMAL_TERMINATION_IN_LNSRCH.\n",
      "\n",
      "Increase the number of iterations (max_iter) or scale the data as shown in:\n",
      "    https://scikit-learn.org/stable/modules/preprocessing.html\n",
      "  _check_optimize_result(\"lbfgs\", opt_res)\n",
      "/home/glemaitre/Documents/packages/scikit-learn/sklearn/gaussian_process/_gpr.py:507: ConvergenceWarning: lbfgs failed to converge (status=2):\n",
      "ABNORMAL_TERMINATION_IN_LNSRCH.\n",
      "\n",
      "Increase the number of iterations (max_iter) or scale the data as shown in:\n",
      "    https://scikit-learn.org/stable/modules/preprocessing.html\n",
      "  _check_optimize_result(\"lbfgs\", opt_res)\n",
      "/home/glemaitre/Documents/packages/scikit-learn/sklearn/gaussian_process/_gpr.py:507: ConvergenceWarning: lbfgs failed to converge (status=2):\n",
      "ABNORMAL_TERMINATION_IN_LNSRCH.\n",
      "\n",
      "Increase the number of iterations (max_iter) or scale the data as shown in:\n",
      "    https://scikit-learn.org/stable/modules/preprocessing.html\n",
      "  _check_optimize_result(\"lbfgs\", opt_res)\n",
      "/home/glemaitre/Documents/packages/scikit-learn/sklearn/gaussian_process/_gpr.py:507: ConvergenceWarning: lbfgs failed to converge (status=2):\n",
      "ABNORMAL_TERMINATION_IN_LNSRCH.\n",
      "\n",
      "Increase the number of iterations (max_iter) or scale the data as shown in:\n",
      "    https://scikit-learn.org/stable/modules/preprocessing.html\n",
      "  _check_optimize_result(\"lbfgs\", opt_res)\n"
     ]
    }
   ],
   "source": [
    "import sklearn.gaussian_process as gp\n",
    "from sklearn.gaussian_process.kernels import ExpSineSquared\n",
    "\n",
    "while True:\n",
    "    xtr = np.random.rand(25,25)\n",
    "    ytr = np.random.rand(25)\n",
    "    model = gp.GaussianProcessRegressor(kernel=ExpSineSquared(),\n",
    "                                                alpha=1e-5,\n",
    "                                                n_restarts_optimizer=10,\n",
    "                                                normalize_y=True)\n",
    "    model.fit(xtr, ytr)"
   ]
  },
  {
   "cell_type": "code",
   "execution_count": 1,
   "id": "minute-income",
   "metadata": {},
   "outputs": [
    {
     "name": "stderr",
     "output_type": "stream",
     "text": [
      "/home/glemaitre/Documents/packages/scikit-learn/sklearn/gaussian_process/kernels.py:402: ConvergenceWarning: The optimal value found for dimension 0 of parameter length_scale is close to the specified lower bound 1e-05. Decreasing the bound and calling fit again may find a better value.\n",
      "  warnings.warn(\"The optimal value found for \"\n"
     ]
    },
    {
     "ename": "ValueError",
     "evalue": "operands could not be broadcast together with shapes (4,) (2,) ",
     "output_type": "error",
     "traceback": [
      "\u001b[0;31m---------------------------------------------------------------------------\u001b[0m",
      "\u001b[0;31mValueError\u001b[0m                                Traceback (most recent call last)",
      "\u001b[0;32m<ipython-input-1-70d0b0959923>\u001b[0m in \u001b[0;36m<module>\u001b[0;34m\u001b[0m\n\u001b[1;32m     14\u001b[0m \u001b[0mnewx\u001b[0m \u001b[0;34m=\u001b[0m \u001b[0mnp\u001b[0m\u001b[0;34m.\u001b[0m\u001b[0matleast_2d\u001b[0m\u001b[0;34m(\u001b[0m\u001b[0;34m[\u001b[0m\u001b[0;36m1\u001b[0m\u001b[0;34m,\u001b[0m \u001b[0;36m2\u001b[0m\u001b[0;34m,\u001b[0m \u001b[0;36m3\u001b[0m\u001b[0;34m,\u001b[0m \u001b[0;36m4\u001b[0m\u001b[0;34m]\u001b[0m\u001b[0;34m)\u001b[0m\u001b[0;34m.\u001b[0m\u001b[0mT\u001b[0m\u001b[0;34m\u001b[0m\u001b[0;34m\u001b[0m\u001b[0m\n\u001b[1;32m     15\u001b[0m \u001b[0mgp\u001b[0m\u001b[0;34m.\u001b[0m\u001b[0mpredict\u001b[0m\u001b[0;34m(\u001b[0m\u001b[0mnewx\u001b[0m\u001b[0;34m,\u001b[0m \u001b[0mreturn_std\u001b[0m\u001b[0;34m=\u001b[0m\u001b[0;32mFalse\u001b[0m\u001b[0;34m)\u001b[0m\u001b[0;34m\u001b[0m\u001b[0;34m\u001b[0m\u001b[0m\n\u001b[0;32m---> 16\u001b[0;31m \u001b[0mgp\u001b[0m\u001b[0;34m.\u001b[0m\u001b[0mpredict\u001b[0m\u001b[0;34m(\u001b[0m\u001b[0mnewx\u001b[0m\u001b[0;34m,\u001b[0m \u001b[0mreturn_std\u001b[0m\u001b[0;34m=\u001b[0m\u001b[0;32mTrue\u001b[0m\u001b[0;34m)\u001b[0m\u001b[0;34m\u001b[0m\u001b[0;34m\u001b[0m\u001b[0m\n\u001b[0m",
      "\u001b[0;32m~/Documents/packages/scikit-learn/sklearn/gaussian_process/_gpr.py\u001b[0m in \u001b[0;36mpredict\u001b[0;34m(self, X, return_std, return_cov)\u001b[0m\n\u001b[1;32m    375\u001b[0m \u001b[0;34m\u001b[0m\u001b[0m\n\u001b[1;32m    376\u001b[0m                 \u001b[0;31m# undo normalisation\u001b[0m\u001b[0;34m\u001b[0m\u001b[0;34m\u001b[0m\u001b[0;34m\u001b[0m\u001b[0m\n\u001b[0;32m--> 377\u001b[0;31m                 \u001b[0my_var\u001b[0m \u001b[0;34m=\u001b[0m \u001b[0my_var\u001b[0m \u001b[0;34m*\u001b[0m \u001b[0mself\u001b[0m\u001b[0;34m.\u001b[0m\u001b[0m_y_train_std\u001b[0m\u001b[0;34m**\u001b[0m\u001b[0;36m2\u001b[0m\u001b[0;34m\u001b[0m\u001b[0;34m\u001b[0m\u001b[0m\n\u001b[0m\u001b[1;32m    378\u001b[0m \u001b[0;34m\u001b[0m\u001b[0m\n\u001b[1;32m    379\u001b[0m                 \u001b[0;32mreturn\u001b[0m \u001b[0my_mean\u001b[0m\u001b[0;34m,\u001b[0m \u001b[0mnp\u001b[0m\u001b[0;34m.\u001b[0m\u001b[0msqrt\u001b[0m\u001b[0;34m(\u001b[0m\u001b[0my_var\u001b[0m\u001b[0;34m)\u001b[0m\u001b[0;34m\u001b[0m\u001b[0;34m\u001b[0m\u001b[0m\n",
      "\u001b[0;31mValueError\u001b[0m: operands could not be broadcast together with shapes (4,) (2,) "
     ]
    }
   ],
   "source": [
    "import numpy as np\n",
    "from sklearn.gaussian_process import GaussianProcessRegressor\n",
    "from sklearn.gaussian_process.kernels import RBF\n",
    "\n",
    "def f(x): return(np.array([np.sin(7 * x), x ** 4]))\n",
    "\n",
    "kernel = RBF()\n",
    "gp = GaussianProcessRegressor(kernel=RBF(length_scale=15.7), n_restarts_optimizer=50,\n",
    "                         normalize_y=True) # (works when normalize_y is False)\n",
    "\n",
    "X = np.linspace(0, 5, 5)\n",
    "gp.fit(np.atleast_2d(X).T, f(X).T)\n",
    "\n",
    "newx = np.atleast_2d([1, 2, 3, 4]).T\n",
    "gp.predict(newx, return_std=False)\n",
    "gp.predict(newx, return_std=True)"
   ]
  },
  {
   "cell_type": "code",
   "execution_count": null,
   "id": "coupled-makeup",
   "metadata": {},
   "outputs": [],
   "source": []
  },
  {
   "cell_type": "code",
   "execution_count": null,
   "id": "890e9326",
   "metadata": {},
   "outputs": [],
   "source": []
  },
  {
   "cell_type": "code",
   "execution_count": null,
   "id": "68592fde",
   "metadata": {},
   "outputs": [],
   "source": []
  },
  {
   "cell_type": "code",
   "execution_count": null,
   "id": "ee0f28b6",
   "metadata": {},
   "outputs": [],
   "source": []
  },
  {
   "cell_type": "code",
   "execution_count": null,
   "id": "047af794",
   "metadata": {},
   "outputs": [],
   "source": []
  },
  {
   "cell_type": "markdown",
   "id": "0269fa7d",
   "metadata": {},
   "source": [
    "## Experiment"
   ]
  },
  {
   "cell_type": "markdown",
   "id": "d6d93051",
   "metadata": {},
   "source": [
    "### Compute the kernel matrix"
   ]
  },
  {
   "cell_type": "code",
   "execution_count": 3,
   "id": "0297dd31",
   "metadata": {},
   "outputs": [
    {
     "data": {
      "text/plain": [
       "'1.0.dev0'"
      ]
     },
     "execution_count": 3,
     "metadata": {},
     "output_type": "execute_result"
    }
   ],
   "source": [
    "import sklearn\n",
    "\n",
    "sklearn.__version__"
   ]
  },
  {
   "cell_type": "code",
   "execution_count": 4,
   "id": "68d52c4e",
   "metadata": {},
   "outputs": [],
   "source": [
    "import numpy as np\n",
    "\n",
    "r = np.linspace(0, 1, num=4)\n",
    "train_x, train_y = np.meshgrid(r, r)\n",
    "X = np.stack((train_x.flatten(), train_y.flatten()), axis=-1)"
   ]
  },
  {
   "cell_type": "code",
   "execution_count": 5,
   "id": "21ec9854",
   "metadata": {},
   "outputs": [
    {
     "data": {
      "text/plain": [
       "array([[0.        , 0.        ],\n",
       "       [0.33333333, 0.        ],\n",
       "       [0.66666667, 0.        ],\n",
       "       [1.        , 0.        ],\n",
       "       [0.        , 0.33333333],\n",
       "       [0.33333333, 0.33333333],\n",
       "       [0.66666667, 0.33333333],\n",
       "       [1.        , 0.33333333],\n",
       "       [0.        , 0.66666667],\n",
       "       [0.33333333, 0.66666667],\n",
       "       [0.66666667, 0.66666667],\n",
       "       [1.        , 0.66666667],\n",
       "       [0.        , 1.        ],\n",
       "       [0.33333333, 1.        ],\n",
       "       [0.66666667, 1.        ],\n",
       "       [1.        , 1.        ]])"
      ]
     },
     "execution_count": 5,
     "metadata": {},
     "output_type": "execute_result"
    }
   ],
   "source": [
    "X"
   ]
  },
  {
   "cell_type": "code",
   "execution_count": 6,
   "id": "4f02678c",
   "metadata": {},
   "outputs": [],
   "source": [
    "periodicity = 1.5\n",
    "length_scale = 0.5"
   ]
  },
  {
   "cell_type": "code",
   "execution_count": 7,
   "id": "6d416866",
   "metadata": {},
   "outputs": [
    {
     "data": {
      "text/plain": [
       "array([1.00000000e+00, 3.66842677e-02, 4.26981239e-04, 2.47875218e-03,\n",
       "       3.66842677e-02, 1.34573550e-03, 1.56634941e-05, 9.09312084e-05,\n",
       "       4.26981239e-04, 1.56634941e-05, 1.82312978e-07, 1.05838067e-06,\n",
       "       2.47875218e-03, 9.09312084e-05, 1.05838067e-06, 6.14421235e-06])"
      ]
     },
     "execution_count": 7,
     "metadata": {},
     "output_type": "execute_result"
    }
   ],
   "source": [
    "from sklearn.gaussian_process.kernels import ExpSineSquared\n",
    "\n",
    "kernel_sklearn = ExpSineSquared(\n",
    "    periodicity=periodicity, length_scale=length_scale,\n",
    ")\n",
    "K_sklearn = kernel_sklearn(X)\n",
    "K_sklearn[0]"
   ]
  },
  {
   "cell_type": "code",
   "execution_count": 8,
   "id": "2e5bdb56",
   "metadata": {},
   "outputs": [
    {
     "data": {
      "text/plain": [
       "array([0.88422032, 0.92031869, 0.92031869, 0.95789078, 0.95961332,\n",
       "       0.95961332, 0.99716727, 0.99716727, 0.99878962, 0.99878962,\n",
       "       1.03787671, 1.03787671, 1.0414347 , 1.08219069, 1.08219069,\n",
       "       1.12454163])"
      ]
     },
     "execution_count": 8,
     "metadata": {},
     "output_type": "execute_result"
    }
   ],
   "source": [
    "np.linalg.eigh(K_sklearn)[0]"
   ]
  },
  {
   "cell_type": "code",
   "execution_count": 9,
   "id": "e54741f1",
   "metadata": {},
   "outputs": [
    {
     "data": {
      "text/plain": [
       "array([1.0000000e+00, 3.6684260e-02, 4.2698105e-04, 2.4787546e-03,\n",
       "       3.6684260e-02, 1.3457348e-03, 1.5663483e-05, 9.0931273e-05,\n",
       "       4.2698105e-04, 1.5663483e-05, 1.8231282e-07, 1.0583813e-06,\n",
       "       2.4787546e-03, 9.0931273e-05, 1.0583813e-06, 6.1442242e-06],\n",
       "      dtype=float32)"
      ]
     },
     "execution_count": 9,
     "metadata": {},
     "output_type": "execute_result"
    }
   ],
   "source": [
    "from tensorflow_probability import math\n",
    "\n",
    "kernel_tfp = math.psd_kernels.ExpSinSquared(\n",
    "   period=periodicity, length_scale=length_scale\n",
    ")\n",
    "K_tfp = kernel_tfp.matrix(X, X)\n",
    "K_tfp.numpy()[0]"
   ]
  },
  {
   "cell_type": "code",
   "execution_count": 10,
   "id": "4120781b",
   "metadata": {},
   "outputs": [
    {
     "data": {
      "text/plain": [
       "array([0.8842203 , 0.92031866, 0.92031866, 0.95789075, 0.9596133 ,\n",
       "       0.9596133 , 0.9971673 , 0.9971673 , 0.9987896 , 0.9987896 ,\n",
       "       1.0378767 , 1.0378767 , 1.0414346 , 1.0821906 , 1.0821906 ,\n",
       "       1.1245416 ], dtype=float32)"
      ]
     },
     "execution_count": 10,
     "metadata": {},
     "output_type": "execute_result"
    }
   ],
   "source": [
    "np.linalg.eigh(K_tfp.numpy())[0]"
   ]
  },
  {
   "cell_type": "code",
   "execution_count": 11,
   "id": "8f51104d",
   "metadata": {},
   "outputs": [
    {
     "data": {
      "text/plain": [
       "array([1.        , 0.05641548, 0.95948005, 0.06124461, 0.05641548,\n",
       "       0.12793895, 0.85336358, 0.05651977, 0.95948005, 0.85336358,\n",
       "       0.09408079, 0.20426127, 0.06124461, 0.05651977, 0.20426127,\n",
       "       0.95508421])"
      ]
     },
     "execution_count": 11,
     "metadata": {},
     "output_type": "execute_result"
    }
   ],
   "source": [
    "import torch\n",
    "from gpytorch.kernels import PeriodicKernel\n",
    "\n",
    "kernel_pytorch = PeriodicKernel()\n",
    "K_pytorch = kernel_pytorch(torch.from_numpy(X))\n",
    "K_pytorch.numpy()[0]"
   ]
  },
  {
   "cell_type": "code",
   "execution_count": 12,
   "id": "f8c7ba68",
   "metadata": {},
   "outputs": [
    {
     "data": {
      "text/plain": [
       "array([-1.27815495, -1.21435487, -1.21435487, -0.93566031, -0.75456704,\n",
       "       -0.24301193, -0.24301193,  0.47435512,  0.72370254,  1.58773803,\n",
       "        1.58773803,  2.42356711,  2.67356606,  2.67356606,  3.10565507,\n",
       "        6.63322787])"
      ]
     },
     "execution_count": 12,
     "metadata": {},
     "output_type": "execute_result"
    }
   ],
   "source": [
    "np.linalg.eigh(K_pytorch.numpy())[0]"
   ]
  },
  {
   "cell_type": "markdown",
   "id": "4e665267",
   "metadata": {},
   "source": [
    "### Compute the gradient"
   ]
  },
  {
   "cell_type": "code",
   "execution_count": 13,
   "id": "0a5bdf25",
   "metadata": {},
   "outputs": [],
   "source": [
    "import tensorflow as tf\n",
    "\n",
    "periodicity = tf.Variable(1.5)\n",
    "length_scale = tf.Variable(0.5)"
   ]
  },
  {
   "cell_type": "code",
   "execution_count": 14,
   "id": "fb2c4df6",
   "metadata": {},
   "outputs": [],
   "source": [
    "X_tf = tf.convert_to_tensor(X, dtype=np.float32)"
   ]
  },
  {
   "cell_type": "code",
   "execution_count": 15,
   "id": "d5a9ccf4",
   "metadata": {},
   "outputs": [],
   "source": [
    "kernel_tfp = math.psd_kernels.ExpSinSquared(\n",
    "   period=periodicity, length_scale=length_scale\n",
    ")"
   ]
  },
  {
   "cell_type": "code",
   "execution_count": 22,
   "id": "7fbdb95e",
   "metadata": {},
   "outputs": [],
   "source": [
    "from scipy.spatial.distance import squareform\n",
    "\n",
    "grads_length_scale = np.empty(shape=(X_tf.shape[0], X_tf.shape[0]))\n",
    "grads_periodicity = np.empty(shape=(X_tf.shape[0], X_tf.shape[0]))\n",
    "for i in range(X_tf.shape[0]):\n",
    "    for j in range(X_tf.shape[0]):\n",
    "        wrt_vars = [X_tf, length_scale, periodicity]\n",
    "        with tf.GradientTape() as tape:\n",
    "            tape.watch(wrt_vars)\n",
    "            K_tfp = kernel_tfp.apply(X_tf[i], X_tf[j])\n",
    "        grads = tape.gradient(K_tfp, wrt_vars)\n",
    "        grads_length_scale[i, j] = grads[1].numpy()\n",
    "        grads_periodicity[i, j] = grads[2].numpy()"
   ]
  },
  {
   "cell_type": "code",
   "execution_count": 30,
   "id": "6d295430",
   "metadata": {},
   "outputs": [
    {
     "data": {
      "text/plain": [
       "array([ 1.08749245e-03,  1.34513959e-01,  0.00000000e+00,  1.34514004e-01,\n",
       "        9.73287679e-05,  9.86908935e-03,  1.34513959e-01,  9.86909308e-03,\n",
       "        9.28677252e-07,  9.73287679e-05,  1.08749245e-03,  9.73287533e-05,\n",
       "       -7.54272151e-06, -5.46204974e-04, -2.39784531e-02, -5.46205556e-04])"
      ]
     },
     "execution_count": 30,
     "metadata": {},
     "output_type": "execute_result"
    }
   ],
   "source": [
    "grads_periodicity[2]"
   ]
  },
  {
   "cell_type": "code",
   "execution_count": 31,
   "id": "4f958ba5",
   "metadata": {},
   "outputs": [
    {
     "data": {
      "text/plain": [
       "array([ 1.32513922e-02,  4.85025704e-01, -0.00000000e+00,  4.85025883e-01,\n",
       "        6.93214301e-04,  3.55856158e-02,  4.85025704e-01,  3.55856307e-02,\n",
       "        1.13161868e-05,  6.93214301e-04,  1.32513922e-02,  6.93214301e-04,\n",
       "        5.82480461e-05,  3.38460691e-03,  5.94900548e-02,  3.38460994e-03])"
      ]
     },
     "execution_count": 31,
     "metadata": {},
     "output_type": "execute_result"
    }
   ],
   "source": [
    "grads_length_scale[2]"
   ]
  },
  {
   "cell_type": "code",
   "execution_count": 33,
   "id": "e4ccb1e9",
   "metadata": {},
   "outputs": [
    {
     "data": {
      "text/plain": [
       "array([ 1.0874923e-03,  1.3451396e-01,  0.0000000e+00,  1.3451396e-01,\n",
       "        9.7328761e-05,  9.8690894e-03,  1.3451396e-01,  9.8690894e-03,\n",
       "        9.2867720e-07,  9.7328761e-05,  1.0874923e-03,  9.7328761e-05,\n",
       "       -7.5427211e-06, -5.4620503e-04, -2.3978451e-02, -5.4620503e-04],\n",
       "      dtype=float32)"
      ]
     },
     "execution_count": 33,
     "metadata": {},
     "output_type": "execute_result"
    }
   ],
   "source": [
    "kernel_sklearn = ExpSineSquared(\n",
    "    periodicity=periodicity, length_scale=length_scale,\n",
    ")\n",
    "K_sklearn, K_sklearn_gradient = kernel_sklearn(X, eval_gradient=True)\n",
    "K_sklearn_gradient[2, :, 1]"
   ]
  },
  {
   "cell_type": "code",
   "execution_count": null,
   "id": "ee7caf61",
   "metadata": {},
   "outputs": [],
   "source": []
  },
  {
   "cell_type": "code",
   "execution_count": null,
   "id": "a15c9d13",
   "metadata": {},
   "outputs": [],
   "source": []
  }
 ],
 "metadata": {
  "kernelspec": {
   "display_name": "Python 3",
   "language": "python",
   "name": "python3"
  },
  "language_info": {
   "codemirror_mode": {
    "name": "ipython",
    "version": 3
   },
   "file_extension": ".py",
   "mimetype": "text/x-python",
   "name": "python",
   "nbconvert_exporter": "python",
   "pygments_lexer": "ipython3",
   "version": "3.9.1"
  }
 },
 "nbformat": 4,
 "nbformat_minor": 5
}
